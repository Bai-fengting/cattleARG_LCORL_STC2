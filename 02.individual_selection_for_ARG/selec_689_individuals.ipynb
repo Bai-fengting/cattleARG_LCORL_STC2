{
 "cells": [
  {
   "cell_type": "code",
   "execution_count": null,
   "metadata": {},
   "outputs": [],
   "source": [
    "import pandas as pd\n",
    "from collections import defaultdict"
   ]
  },
  {
   "cell_type": "code",
   "execution_count": null,
   "metadata": {},
   "outputs": [],
   "source": [
    "f_kinship = ''\n",
    "f_sample_meta = ''\n",
    "ls_breed_5 = ['Angus', 'Hereford', 'Charolais', 'Limousin', 'Simmental']\n"
   ]
  },
  {
   "cell_type": "code",
   "execution_count": null,
   "metadata": {},
   "outputs": [],
   "source": []
  },
  {
   "cell_type": "code",
   "execution_count": null,
   "metadata": {},
   "outputs": [],
   "source": [
    "# Load kinship coefficients calculated between two individuals using the KING software\n",
    "df_kin = pd.read_csv(f_kinship, \n",
    "                     sep='\\t', \n",
    "                     usecols={'ID1', 'ID2', 'Kinship'}, \n",
    "                     dtype={'ID1': str, 'ID2': str, 'Kinship': float}\n",
    "                    )"
   ]
  },
  {
   "cell_type": "code",
   "execution_count": null,
   "metadata": {},
   "outputs": [],
   "source": [
    "df_kin_related = df_kin.query('Kinship >= 0.0442')"
   ]
  },
  {
   "cell_type": "code",
   "execution_count": null,
   "metadata": {},
   "outputs": [],
   "source": [
    "# Load meta-information of samples\n",
    "df_meta = pd.read_csv(f_sample_meta)"
   ]
  },
  {
   "cell_type": "code",
   "execution_count": null,
   "metadata": {},
   "outputs": [],
   "source": [
    "# Filter samples belonging to five beef cattle breeds\n",
    "df_meta_5_beef = df_meta.query('breed in @ls_breed_5')"
   ]
  },
  {
   "cell_type": "code",
   "execution_count": null,
   "metadata": {},
   "outputs": [],
   "source": [
    "st_5_beef = set(df_meta_5_beef['SampleID'].tolist())"
   ]
  },
  {
   "cell_type": "code",
   "execution_count": null,
   "metadata": {},
   "outputs": [],
   "source": [
    "# Filter individuals that are not unrelated\n",
    "df_kin_5_beef_related = df_kin_related.query('(Kinship >= 0.0442) & (ID1 in @st_5_beef) & (ID2 in @st_5_beef)')"
   ]
  },
  {
   "cell_type": "code",
   "execution_count": null,
   "metadata": {},
   "outputs": [],
   "source": [
    "# Calculate the number of non-unrelated individuals for each individual\n",
    "beef_ind2num_relate = {}\n",
    "for sample in st_5_beef:\n",
    "    beef_ind2num_relate[sample] = df_kin_5_beef_related.query('(ID1 == @sample) | (ID2 == @sample)').shape[0]"
   ]
  },
  {
   "cell_type": "code",
   "execution_count": null,
   "metadata": {},
   "outputs": [],
   "source": [
    "# Sort individuals in descending order based on the number of non-unrelated individuals\n",
    "beef_ind2num_relate_order=sorted(beef_ind2num_relate.items(),key=lambda x:x[1],reverse=True) "
   ]
  },
  {
   "cell_type": "code",
   "execution_count": null,
   "metadata": {},
   "outputs": [],
   "source": [
    "# Iteratively remove individuals with the highest number of non-unrelated relationships until all remaining individuals are unrelated\n",
    "df_temp = df_kin_5_beef_related.copy(deep=True)\n",
    "st_dele_id = set()\n",
    "for tp in beef_ind2num_relate_order:\n",
    "    sample = tp[0]\n",
    "    if df_temp.query('(ID1 == @sample) | (ID2 == @sample)').shape[0] != 0:\n",
    "        df_temp = df_temp.query('(ID1 != @sample) & (ID2 != @sample)')\n",
    "        st_dele_id.add(sample)\n",
    "    else:\n",
    "        pass"
   ]
  },
  {
   "cell_type": "code",
   "execution_count": null,
   "metadata": {},
   "outputs": [],
   "source": [
    "df_5_beef_unrelate = df_meta_5_beef.query('SampleID not in @st_dele_id')"
   ]
  },
  {
   "cell_type": "code",
   "execution_count": null,
   "metadata": {},
   "outputs": [],
   "source": []
  },
  {
   "cell_type": "markdown",
   "metadata": {},
   "source": [
    "## select individuals"
   ]
  },
  {
   "cell_type": "code",
   "execution_count": null,
   "metadata": {},
   "outputs": [],
   "source": [
    "breed2ls_ind = defaultdict(list)"
   ]
  },
  {
   "cell_type": "markdown",
   "metadata": {},
   "source": [
    "### For Angus, Hereford, and Charolais, the number of unrelated individuals is more than 100"
   ]
  },
  {
   "cell_type": "code",
   "execution_count": null,
   "metadata": {},
   "outputs": [],
   "source": [
    "# Select the top 100 individuals with the highest sequencing coverage\n",
    "for breed in ['Angus', 'Hereford', 'Charolais']:\n",
    "    breed2ls_ind[breed] = df_5_beef_unrelate.query('breed == \"Angus\"').sort_values('Coverage', ascending=False).iloc[:100, 0].tolist()"
   ]
  },
  {
   "cell_type": "markdown",
   "metadata": {},
   "source": [
    "### For Simmental"
   ]
  },
  {
   "cell_type": "code",
   "execution_count": null,
   "metadata": {},
   "outputs": [],
   "source": [
    "breed = 'Simmental'"
   ]
  },
  {
   "cell_type": "code",
   "execution_count": null,
   "metadata": {},
   "outputs": [],
   "source": [
    "# Obtain all unrelated individuals with sequencing coverage greater than 5×, totaling 81 individuals\n",
    "breed2ls_ind[breed] = df_5_beef_unrelate.query('(breed == \"Simmental\") & (Coverage >= 5)').sort_values('Coverage', ascending=False)['SampleID'].tolist()"
   ]
  },
  {
   "cell_type": "code",
   "execution_count": null,
   "metadata": {},
   "outputs": [],
   "source": [
    "# Add 19 unrelated German Simmental individuals\n",
    "ls_nice_fleckvieh = df_meta.query('(breed == \"Fleckvieh\") & (Coverage >= 7)').sort_values('Coverage', ascending=False)['SampleID'].to_list()\n",
    "df_relate_fleckvieh = df_kin.query('(ID1 in @ls_nice_fleckvieh) & (ID2 in @ls_nice_fleckvieh) & (Kinship >= 0.0442)')\n",
    "st_relate_fleckvieh = set()\n",
    "for _, row in df_relate_fleckvieh.iterrows():\n",
    "    st_relate_fleckvieh.add(row['ID1'])\n",
    "    st_relate_fleckvieh.add(row['ID2'])\n",
    "ls_unrelate_fleckvieh = list(set(ls_nice_fleckvieh) - st_relate_fleckvieh)\n",
    "ls_19_fleckvieh = df_meta.query('SampleID in @ls_unrelate_fleckvieh').sort_values(by='Coverage', ascending=False).iloc[:19, 0].to_list()"
   ]
  },
  {
   "cell_type": "markdown",
   "metadata": {},
   "source": [
    "### For Limousin"
   ]
  },
  {
   "cell_type": "code",
   "execution_count": null,
   "metadata": {},
   "outputs": [],
   "source": [
    "breed2ls_ind['Limousin'] = df_meta.query('breed == \"Limousin\"').sort_values('Coverage', ascending=False).iloc[:100, 0].to_list()"
   ]
  }
 ],
 "metadata": {
  "language_info": {
   "name": "python"
  }
 },
 "nbformat": 4,
 "nbformat_minor": 2
}
