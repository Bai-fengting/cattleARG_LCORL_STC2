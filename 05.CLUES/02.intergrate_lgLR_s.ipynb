{
 "cells": [
  {
   "cell_type": "code",
   "execution_count": 25,
   "id": "4827e70a-0f0d-489f-b27b-6243a9220f70",
   "metadata": {
    "tags": []
   },
   "outputs": [],
   "source": [
    "import numpy as np\n",
    "import pandas as pd\n",
    "import gzip\n",
    "from collections import defaultdict\n",
    "from tqdm import tqdm\n",
    "import itertools"
   ]
  },
  {
   "cell_type": "code",
   "execution_count": 60,
   "id": "cfc4932d-1f55-471b-ba0d-97e39ec2a90b",
   "metadata": {
    "tags": []
   },
   "outputs": [],
   "source": [
    "ls_breed = ['Angus', 'Hereford', 'Charolais', 'Simmental', 'Limousin']"
   ]
  },
  {
   "cell_type": "code",
   "execution_count": 77,
   "id": "510bc211-6d38-4db9-a714-0bc7a6d60dda",
   "metadata": {
    "tags": []
   },
   "outputs": [],
   "source": [
    "def extract_lglr_s_run(run, breed, directory):\n",
    "    pos2lglr = {}\n",
    "    pos2s = {}\n",
    "    ls_lglr = []\n",
    "    ls_s = []\n",
    "    ls_pos = []\n",
    "    st_miss = set()\n",
    "    with open(f'{directory}/log/clues_run{run}_{breed}.e', 'r') as f_e:\n",
    "        for line in f_e:\n",
    "            if line.startswith('FileNotFoundError'):\n",
    "                ls_line = line.strip().split('/')\n",
    "                pos = ls_line[-2]\n",
    "                st_miss.add(pos)\n",
    "    \n",
    "    with open(f'{directory}/log/clues_run{run}_{breed}.o', 'r') as f_o:\n",
    "        for line in f_o:\n",
    "            if line.startswith('split'):\n",
    "                pos = line.strip().split(f'{breed}_')[-1]\n",
    "                ls_pos.append(pos)\n",
    "            elif line.strip().startswith('logLR'):\n",
    "                lglr = float(line.strip().split()[-1])\n",
    "                ls_lglr.append(lglr)\n",
    "            elif line.strip().startswith('0-167'):\n",
    "                s = float(line.strip().split()[-1])\n",
    "                ls_s.append(s)\n",
    "    for pos in st_miss:\n",
    "        ls_pos.remove(pos)\n",
    "    return ls_pos, ls_lglr, ls_s"
   ]
  },
  {
   "cell_type": "code",
   "execution_count": null,
   "id": "6b70f98e-6b24-42cc-bf25-07676ce1ef65",
   "metadata": {},
   "outputs": [],
   "source": []
  },
  {
   "cell_type": "code",
   "execution_count": 91,
   "id": "06333156-9969-4f2d-9d7e-a069d9cb206d",
   "metadata": {
    "tags": []
   },
   "outputs": [],
   "source": [
    "def extract_lglr_s(directory, seed, ls_breeds):\n",
    "    breed2site2lglr = {}\n",
    "    breed2site2s = {}\n",
    "    for breed in ls_breeds:\n",
    "        breed2site2lglr[breed] = {}\n",
    "        breed2site2s[breed] = {}\n",
    "    for breed, run in tqdm(itertools.product(ls_breeds, range(1, 721)), total=5 * 720):\n",
    "        ls_pos, ls_lglr, ls_s = extract_lglr_s_run(run, breed, directory)\n",
    "        for pos, lglr, s in zip(ls_pos, ls_lglr, ls_s):\n",
    "            # df_lgLR.loc[breed, pos] = lglr\n",
    "            # df_s.loc[breed, pos] = s\n",
    "            breed2site2lglr[breed][pos] = lglr\n",
    "            breed2site2s[breed][pos] = s\n",
    "    \n",
    "    return breed2site2lglr, breed2site2s"
   ]
  },
  {
   "cell_type": "code",
   "execution_count": null,
   "id": "0afcdbf5-d715-400c-b5c8-db69359062ef",
   "metadata": {},
   "outputs": [],
   "source": []
  },
  {
   "cell_type": "code",
   "execution_count": 79,
   "id": "8347cbbd-db73-44df-9574-471a657d8812",
   "metadata": {
    "tags": []
   },
   "outputs": [],
   "source": [
    "def extract_lglr_s_toDataFrame(directory, seed, ls_breeds, ls_all_sites):\n",
    "    breed2site2lglr, breed2site2s = extract_lglr_s(directory, seed, ls_breeds)\n",
    "    breed2lglr = defaultdict(list)\n",
    "    breed2s = defaultdict(list)\n",
    "    ## Record lgLR and s values in the order of ls_all_sites, with missing values as None\n",
    "    for breed in ls_breeds:\n",
    "        for site in ls_all_sites:\n",
    "            breed2lglr[breed].append(breed2site2lglr[breed].get(site, np.nan))\n",
    "            breed2s[breed].append(breed2site2s[breed].get(site, np.nan))\n",
    "    #to DataFrame\n",
    "    df_lgLR = pd.DataFrame(\n",
    "        np.array(list(breed2lglr.values())),\n",
    "        index=ls_breeds, \n",
    "        columns=ls_all_sites\n",
    "    )\n",
    "\n",
    "    df_s = pd.DataFrame(\n",
    "        np.array(list(breed2s.values())),\n",
    "        index=ls_breeds, \n",
    "        columns=ls_all_sites\n",
    "    )\n",
    "    return df_lgLR, df_s"
   ]
  },
  {
   "cell_type": "code",
   "execution_count": 80,
   "id": "c54dcf46-6f29-4dac-b62c-618732774863",
   "metadata": {},
   "outputs": [],
   "source": [
    "with gzip.open('chrAuto_fst_percentile99.95.tsv.gz', 'rt') as f_site:\n",
    "    next(f_site)\n",
    "    ls_sites = ['_'.join(line.strip().split()[:2]) for line in f_site]"
   ]
  },
  {
   "cell_type": "code",
   "execution_count": 92,
   "id": "447a36fa-2480-42aa-9aec-20d0c215a2fb",
   "metadata": {
    "tags": []
   },
   "outputs": [
    {
     "name": "stderr",
     "output_type": "stream",
     "text": [
      "100%|██████████| 3600/3600 [04:07<00:00, 14.53it/s]\n",
      "100%|██████████| 3600/3600 [03:52<00:00, 15.49it/s]\n"
     ]
    }
   ],
   "source": [
    "for num, direct in zip([1, 10, 100], ['01.seed_1_sample_200_burnin_100', '02.seed_10_sample_200_burnin_100', '03.seed_100_sample_200_burnin_100']):\n",
    "    df_lgLR, df_s = extract_lglr_s_toDataFrame(directory=direct, seed=num, ls_breeds=ls_breed, ls_all_sites=ls_sites)\n",
    "    df_lgLR.to_csv(f'{direct}/fst_all_seed_{num}.logLR.tsv')\n",
    "    df_s.to_csv(f'{direct}/fst_all_seed_{num}.s.tsv')"
   ]
  },
  {
   "cell_type": "code",
   "execution_count": null,
   "id": "b326258a-927e-44e7-9af9-107f19d87b0b",
   "metadata": {},
   "outputs": [],
   "source": []
  }
 ],
 "metadata": {
  "kernelspec": {
   "display_name": "Python 3",
   "language": "python",
   "name": "python3"
  },
  "language_info": {
   "codemirror_mode": {
    "name": "ipython",
    "version": 3
   },
   "file_extension": ".py",
   "mimetype": "text/x-python",
   "name": "python",
   "nbconvert_exporter": "python",
   "pygments_lexer": "ipython3",
   "version": "3.9.1"
  }
 },
 "nbformat": 4,
 "nbformat_minor": 5
}
