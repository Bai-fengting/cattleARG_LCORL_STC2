{
 "cells": [
  {
   "cell_type": "code",
   "execution_count": 1,
   "id": "3cf3ba25-5ccb-4154-a778-0dc1d50a4a31",
   "metadata": {
    "tags": []
   },
   "outputs": [],
   "source": [
    "import numpy as np\n",
    "import pandas as pd\n",
    "import matplotlib.pyplot as plt\n",
    "import seaborn as sns\n",
    "\n",
    "from collections import defaultdict\n",
    "from matplotlib.colors import LinearSegmentedColormap\n",
    "from pyfaidx import Fasta\n",
    "import allel"
   ]
  },
  {
   "cell_type": "code",
   "execution_count": 2,
   "id": "ad6bee5e-6b3a-4c96-91fb-08353543772e",
   "metadata": {
    "tags": []
   },
   "outputs": [],
   "source": [
    "%matplotlib inline\n",
    "%config InlineBackend.figure_format = 'retina'"
   ]
  },
  {
   "cell_type": "code",
   "execution_count": null,
   "id": "a1fb3b70-1e6e-4da7-a9a5-9e2e8218dab6",
   "metadata": {},
   "outputs": [],
   "source": []
  },
  {
   "cell_type": "markdown",
   "id": "5f8c2bd3-8204-49af-b796-6d2badd25709",
   "metadata": {},
   "source": [
    "## load samples"
   ]
  },
  {
   "cell_type": "code",
   "execution_count": 3,
   "id": "8c7396a5-5b96-4c9d-85be-7996f9bb610f",
   "metadata": {
    "tags": []
   },
   "outputs": [],
   "source": [
    "def load_groupfile(groupfile):\n",
    "    group_ordered = []\n",
    "    samples_queried = []\n",
    "    haps_queried = []\n",
    "    group2haps = defaultdict(list)\n",
    "    hap2group = {}\n",
    "    group2samples = defaultdict(list)\n",
    "    with open(groupfile) as f:\n",
    "        for line in f:\n",
    "            sample, group = line.strip().split()\n",
    "            if group not in group_ordered:\n",
    "                group_ordered.append(group)  \n",
    "            samples_queried.append(sample)\n",
    "            group2samples[group].append(sample)\n",
    "            # haps_queried.append(f'{sample}_1')\n",
    "            # haps_queried.append(f'{sample}_2')\n",
    "            group2haps[group].append(f'{sample}_1')\n",
    "            group2haps[group].append(f'{sample}_2')\n",
    "            hap2group[f'{sample}_1'] = group\n",
    "            hap2group[f'{sample}_2'] = group\n",
    "    return samples_queried, group_ordered, group2haps, hap2group, group2samples"
   ]
  },
  {
   "cell_type": "code",
   "execution_count": 4,
   "id": "4bb270e3-0a10-40e3-8e7e-7abedfc5b09b",
   "metadata": {
    "tags": []
   },
   "outputs": [],
   "source": [
    "groupfile = '500_sample2breed.tsv'"
   ]
  },
  {
   "cell_type": "code",
   "execution_count": 5,
   "id": "66ed283f-191e-4ee6-aac6-ab6f9608fba7",
   "metadata": {
    "tags": []
   },
   "outputs": [],
   "source": [
    "samples_queried, group_ordered, group2haps, hap2group, group2samples = load_groupfile(groupfile)"
   ]
  },
  {
   "cell_type": "code",
   "execution_count": 6,
   "id": "c5c544be-dc3c-493f-a0fd-c4503d5ee4ba",
   "metadata": {
    "tags": []
   },
   "outputs": [
    {
     "name": "stdout",
     "output_type": "stream",
     "text": [
      "Angus 100\n",
      "Hereford 100\n",
      "Charolais 100\n",
      "Simmental 100\n",
      "Limousin 100\n"
     ]
    }
   ],
   "source": [
    "for group, ls in group2samples.items(): \n",
    "    print(group, len(ls))"
   ]
  },
  {
   "cell_type": "code",
   "execution_count": null,
   "id": "ea8eaac4-f400-409a-bfba-5e6f7fd17f06",
   "metadata": {},
   "outputs": [],
   "source": []
  },
  {
   "cell_type": "markdown",
   "id": "bc096077-8af9-4dc0-9fa1-c872851419f1",
   "metadata": {},
   "source": [
    "## load vcf files"
   ]
  },
  {
   "cell_type": "code",
   "execution_count": 9,
   "id": "9dec910f-7624-4e33-8784-cb4b41d567e2",
   "metadata": {
    "tags": []
   },
   "outputs": [],
   "source": [
    "chrom = 6\n",
    "start = 37349373\n",
    "end = 37438248"
   ]
  },
  {
   "cell_type": "code",
   "execution_count": 10,
   "id": "b928ed98-49a7-4405-9444-5e131544db33",
   "metadata": {
    "tags": []
   },
   "outputs": [],
   "source": [
    "vcffile='./Chr6_37180233_37768454_500_beef_samples_SNP-INDEL.vcf.gz'"
   ]
  },
  {
   "cell_type": "code",
   "execution_count": 11,
   "id": "a66196c0-0adf-411f-bbb9-28511d46f95d",
   "metadata": {
    "tags": []
   },
   "outputs": [],
   "source": [
    "callset = allel.read_vcf(\n",
    "    vcffile, \n",
    "    region=f'{chrom}:{start}-{end}', \n",
    "    # samples=samples_queried, \n",
    "    fields=['samples', 'calldata/GT', 'variants/POS', 'variants/ALT', 'variants/REF'], \n",
    "    alt_number=1, #自动过滤掉多等位位点，仅保留二等位\n",
    "    tabix='~/software/htslib-1.18/tabix'\n",
    ")"
   ]
  },
  {
   "cell_type": "code",
   "execution_count": null,
   "id": "e5c06eb6-03c1-43d4-9521-8d81bdb67694",
   "metadata": {},
   "outputs": [],
   "source": []
  },
  {
   "cell_type": "markdown",
   "id": "83c3be4f-a99c-48b0-b056-c3dbe1d62868",
   "metadata": {},
   "source": [
    "## split genotype to haplotype"
   ]
  },
  {
   "cell_type": "code",
   "execution_count": 12,
   "id": "2d7f7c84-8856-4d64-b0c4-32ec4b79ce09",
   "metadata": {
    "tags": []
   },
   "outputs": [],
   "source": [
    "num_sites, num_inds, num_ploidy = callset['calldata/GT'].shape"
   ]
  },
  {
   "cell_type": "code",
   "execution_count": 13,
   "id": "04222e51-03eb-48f4-b7a8-dea7c7422ee9",
   "metadata": {
    "tags": []
   },
   "outputs": [],
   "source": [
    "ay_hap = np.empty((num_sites, num_inds * 2))"
   ]
  },
  {
   "cell_type": "code",
   "execution_count": 14,
   "id": "01e6d3d5-bf12-4f0b-85dd-21588d97061b",
   "metadata": {
    "tags": []
   },
   "outputs": [],
   "source": [
    "ay_hap[:, ::2] = callset['calldata/GT'][:, :, 0]\n",
    "ay_hap[:, 1::2] = callset['calldata/GT'][:, :, 1]"
   ]
  },
  {
   "cell_type": "code",
   "execution_count": null,
   "id": "13464c75-7575-4f54-b0f2-6010d442fd70",
   "metadata": {},
   "outputs": [],
   "source": []
  },
  {
   "cell_type": "markdown",
   "id": "2c31f7ee-c270-42aa-b3ab-2c8ed6529c28",
   "metadata": {
    "tags": []
   },
   "source": [
    "## load haplotype array to dataframe"
   ]
  },
  {
   "cell_type": "code",
   "execution_count": 15,
   "id": "42e2c318-b10e-4d54-9298-b9191b97324b",
   "metadata": {
    "tags": []
   },
   "outputs": [],
   "source": [
    "haps_queried = []\n",
    "for sample in callset['samples']:\n",
    "    haps_queried.extend([f'{sample}_1', f'{sample}_2'])"
   ]
  },
  {
   "cell_type": "code",
   "execution_count": 16,
   "id": "1e005762-a27f-477d-ad41-41eb8c5668a0",
   "metadata": {
    "tags": []
   },
   "outputs": [],
   "source": [
    "df_hap = pd.DataFrame(\n",
    "    data=ay_hap, \n",
    "    index=callset['variants/POS'], \n",
    "    columns=haps_queried,\n",
    "    dtype=int\n",
    ")"
   ]
  },
  {
   "cell_type": "markdown",
   "id": "5878c461-7117-4e1c-9ce4-6491ada5121f",
   "metadata": {},
   "source": [
    "## get haplotype A and D"
   ]
  },
  {
   "cell_type": "code",
   "execution_count": 18,
   "id": "4fe439b5-88c0-42ab-8550-6ad85b085624",
   "metadata": {
    "tags": []
   },
   "outputs": [],
   "source": [
    "ls_5_shared_snp = [37349373, 37362802, 37381106, 37381397, 37438248]"
   ]
  },
  {
   "cell_type": "code",
   "execution_count": 20,
   "id": "b081ce36-f0ca-4b68-8e01-24909fc7e2f1",
   "metadata": {
    "tags": []
   },
   "outputs": [],
   "source": [
    "ls_all_0 = []\n",
    "ls_all_1 = []"
   ]
  },
  {
   "cell_type": "code",
   "execution_count": 21,
   "id": "6403c471-4023-4de5-a345-64140cf37df8",
   "metadata": {
    "tags": []
   },
   "outputs": [],
   "source": [
    "for hap in df_hap.columns:\n",
    "    if df_hap.loc[ls_5_shared_snp,hap].sum() == 0:\n",
    "        ls_all_0.append(hap)\n",
    "    elif df_hap.loc[ls_5_shared_snp,hap].sum() == 5:\n",
    "        ls_all_1.append(hap)"
   ]
  },
  {
   "cell_type": "code",
   "execution_count": 22,
   "id": "812c9a49-9e4a-4a0b-a5d2-5f129b591ea3",
   "metadata": {
    "collapsed": true,
    "jupyter": {
     "outputs_hidden": true
    },
    "tags": []
   },
   "outputs": [
    {
     "data": {
      "text/plain": [
       "['AANUSAM000004285114_1',\n",
       " 'AANUSAM000004285114_2',\n",
       " 'AANNZLM016932004379_1',\n",
       " 'AANNZLM016932004379_2',\n",
       " 'AANUSAMCSU20122222_1',\n",
       " 'AANUSAMCSU20122222_2',\n",
       " 'AANUSAMCSU20122385_1',\n",
       " 'AANUSAMCSU20122385_2',\n",
       " 'AANUSAMCSU20144019_1',\n",
       " 'AANUSAMCSU20144019_2',\n",
       " 'AANUSAMCSU20122162_1',\n",
       " 'AANUSAMCSU20122162_2',\n",
       " 'AANUSAM000013739532_1',\n",
       " 'AANUSAM000013739532_2',\n",
       " 'AANUSAMCSU20166307_1',\n",
       " 'AANUSAMCSU20166307_2',\n",
       " 'AANUSAMCSU20166246_1',\n",
       " 'AANUSAMCSU20166246_2',\n",
       " 'AANUSAMCSU20166095_1',\n",
       " 'AANUSAMCSU20166095_2',\n",
       " 'AANUSAMCSU20166024_1',\n",
       " 'AANUSAMCSU20166024_2',\n",
       " 'AANUSAMCSU20122108_1',\n",
       " 'AANUSAMCSU20122108_2',\n",
       " 'AANUSAM000005475692_1',\n",
       " 'AANUSAM000005475692_2',\n",
       " 'AANUSAM000015840414_1',\n",
       " 'AANUSAM000015840414_2',\n",
       " 'AANUSAM000014675445_1',\n",
       " 'AANUSAM000014675445_2',\n",
       " 'AANUSAM000013898124_1',\n",
       " 'AANUSAM000013898124_2',\n",
       " 'AANNZLM017683008844_1',\n",
       " 'AANNZLM017683008844_2',\n",
       " 'AANUSAM000013305978_1',\n",
       " 'AANUSAM000013305978_2',\n",
       " 'AANUSAM000012396224_1',\n",
       " 'AANUSAM000012396224_2',\n",
       " 'AANUSAM000014959541_1',\n",
       " 'AANUSAM000014959541_2',\n",
       " 'AANUSAM000017635887_1',\n",
       " 'AANUSAM000017635887_2',\n",
       " 'AANUSAM000017742506_1',\n",
       " 'AANUSAM000017742506_2',\n",
       " 'AANNZLM17691003Y167_1',\n",
       " 'AANNZLM17691003Y167_2',\n",
       " 'AANUSAM000013776378_1',\n",
       " 'AANUSAM000013776378_2',\n",
       " 'UMCUSAU000000088977_1',\n",
       " 'UMCUSAU000000088977_2',\n",
       " 'AANUSAM000011356596_1',\n",
       " 'AANUSAM000011356596_2',\n",
       " 'AANUSAM000009083399_1',\n",
       " 'AANUSAM000009083399_2',\n",
       " 'AANCANM000000631887_1',\n",
       " 'AANCANM000000631887_2',\n",
       " 'AANUSAMCSU20166235_1',\n",
       " 'AANUSAMCSU20166235_2',\n",
       " 'UMCUSAU000000088669_1',\n",
       " 'UMCUSAU000000088669_2',\n",
       " 'AANAUSM000000SIRROY_1',\n",
       " 'AANAUSM000000SIRROY_2',\n",
       " 'AANAUSM000000WWRITO_1',\n",
       " 'AANAUSM000000WWRITO_2',\n",
       " 'AANCANM000001047219_1',\n",
       " 'AANCANM000001047219_2',\n",
       " 'AANAUSM00000NENK176_1',\n",
       " 'AANAUSM00000NENK176_2',\n",
       " 'AANAUSM00000NBHL348_1',\n",
       " 'AANAUSM00000NBHL348_2',\n",
       " 'UMCUSAU000000194346_1',\n",
       " 'UMCUSAU000000194346_2',\n",
       " 'UMCUSAU000000194330_1',\n",
       " 'UMCUSAU000000194330_2',\n",
       " 'UMCUSAU000000194349_1',\n",
       " 'UMCUSAU000000194349_2',\n",
       " 'AANAUSM00000NORH708_1',\n",
       " 'AANAUSM00000NORH708_2',\n",
       " 'UMCUSAU000000194332_1',\n",
       " 'UMCUSAU000000194332_2',\n",
       " 'UMCUSAU000000194345_1',\n",
       " 'UMCUSAU000000194345_2',\n",
       " 'AANAUSM00000NAQA241_1',\n",
       " 'AANAUSM00000NAQA241_2',\n",
       " 'AANCANM000001067384_1',\n",
       " 'AANCANM000001067384_2',\n",
       " 'AANCANM0000KINKA135_1',\n",
       " 'AANCANM0000KINKA135_2',\n",
       " 'D085_1',\n",
       " 'D085_2',\n",
       " 'AANAUSM00000QQFH147_1',\n",
       " 'AANAUSM00000QQFH147_2',\n",
       " 'UMCUSAU000000194822_1',\n",
       " 'UMCUSAU000000194822_2',\n",
       " 'AANCANM000001545531_1',\n",
       " 'AANCANM000001545531_2',\n",
       " 'D234_1',\n",
       " 'D234_2',\n",
       " 'AANNZLM017568098230_1',\n",
       " 'AANNZLM017568098230_2',\n",
       " 'UMCUSAU000000194812_1',\n",
       " 'UMCUSAU000000194812_2',\n",
       " 'UMCUSAU000000194739_1',\n",
       " 'UMCUSAU000000194739_2',\n",
       " 'AANUSAM000017328461_1',\n",
       " 'AANUSAM000017328461_2',\n",
       " 'AANCANM000001504907_1',\n",
       " 'AANCANM000001504907_2',\n",
       " 'AANNZLM017568091689_1',\n",
       " 'AANNZLM017568091689_2',\n",
       " 'AANAUSM00000QLLM602_1',\n",
       " 'AANAUSM00000QLLM602_2',\n",
       " 'AANCANM000001077210_1',\n",
       " 'AANCANM000001077210_2',\n",
       " 'AANUSAM000014450619_1',\n",
       " 'AANUSAM000014450619_2',\n",
       " 'AANAUSM000000000Z24_1',\n",
       " 'AANAUSM000000000Z24_2',\n",
       " 'AANUSAM000014450618_1',\n",
       " 'AANUSAM000014450618_2',\n",
       " 'UMCUSAU000000194747_1',\n",
       " 'UMCUSAU000000194747_2',\n",
       " 'AANCANM0000KINKA281_1',\n",
       " 'AANCANM0000KINKA281_2',\n",
       " 'AANCANM000020133527_1',\n",
       " 'AANCANM000020133527_2',\n",
       " 'AANAUSM00000WDCH249_1',\n",
       " 'AANAUSM00000WDCH249_2',\n",
       " 'AANCANM000001086586_1',\n",
       " 'AANCANM000001086586_2',\n",
       " 'AANNZLM001769106617_1',\n",
       " 'AANNZLM001769106617_2',\n",
       " 'UMCUSAU000000194218_1',\n",
       " 'UMCUSAU000000194218_2',\n",
       " 'AANCANM000001413589_1',\n",
       " 'AANCANM000001413589_2',\n",
       " 'AANAUSM0000KCTONKIN_1',\n",
       " 'AANAUSM0000KCTONKIN_2',\n",
       " 'AANNZLM17691095Q197_1',\n",
       " 'AANNZLM17691095Q197_2',\n",
       " 'UMCUSAU000000194737_1',\n",
       " 'UMCUSAU000000194737_2',\n",
       " 'UMCUSAU000000194811_1',\n",
       " 'UMCUSAU000000194811_2',\n",
       " 'AANUSAM000013898309_1',\n",
       " 'AANUSAM000013898309_2',\n",
       " 'AANUSAM000010586502_1',\n",
       " 'AANUSAM000010586502_2',\n",
       " 'AANAUSM00000NMML133_1',\n",
       " 'AANAUSM00000NMML133_2',\n",
       " 'AANUSAM000013921655_1',\n",
       " 'AANUSAM000013921655_2',\n",
       " 'AANNZLM015819073316_1',\n",
       " 'AANNZLM015819073316_2',\n",
       " 'UMCUSAU000000194798_1',\n",
       " 'UMCUSAU000000194798_2',\n",
       " 'UMCUSAU000000194770_1',\n",
       " 'UMCUSAU000000194770_2',\n",
       " 'AANUSAM000013565612_1',\n",
       " 'AANUSAM000013565612_2',\n",
       " 'AANAUSM000000TFAN90_1',\n",
       " 'AANAUSM000000TFAN90_2',\n",
       " 'AANUSAM000014450620_1',\n",
       " 'AANUSAM000014450620_2',\n",
       " 'AANUSAM000012398105_1',\n",
       " 'AANUSAM000012398105_2',\n",
       " 'AANAUSM00000VTML614_1',\n",
       " 'AANAUSM00000VTML614_2',\n",
       " 'AANDEUM009846661883_2',\n",
       " 'AANAUSM00000SRKK306_1',\n",
       " 'AANAUSM00000SRKK306_2',\n",
       " 'AANUSAF000014068065_1',\n",
       " 'AANUSAF000014068065_2',\n",
       " 'AANUSAM000014782400_1',\n",
       " 'AANUSAM000014782400_2',\n",
       " 'AANUSAM000014202877_1',\n",
       " 'AANUSAM000014202877_2',\n",
       " 'UMCUSAU000000194803_1',\n",
       " 'UMCUSAU000000194803_2',\n",
       " 'AANUSAM000014206466_1',\n",
       " 'AANUSAM000014206466_2',\n",
       " 'D064_1',\n",
       " 'D064_2',\n",
       " 'AANAUSM00000VLYM518_1',\n",
       " 'AANAUSM00000VLYM518_2',\n",
       " 'AANAUSM000NARK63+90_1',\n",
       " 'AANAUSM000NARK63+90_2',\n",
       " 'AANAUSM00000NWPG188_1',\n",
       " 'AANAUSM00000NWPG188_2',\n",
       " 'AANAUSM000000QMUM13_1',\n",
       " 'AANAUSM000000QMUM13_2',\n",
       " 'AANCANM000000583665_1',\n",
       " 'AANCANM000000583665_2',\n",
       " 'D126_1',\n",
       " 'D126_2',\n",
       " 'D142_1',\n",
       " 'D142_2',\n",
       " 'D245_1',\n",
       " 'D245_2',\n",
       " 'CHAUSAM00000M319454_1',\n",
       " 'UMCUSAU000000194777_2',\n",
       " 'CHACANM0000MC236083_1',\n",
       " 'UMCUSAU000000194373_2',\n",
       " 'CHACANM00000MC64448_1',\n",
       " 'CHACANM00000MC64448_2',\n",
       " 'SIMUSAM000001907954_1',\n",
       " 'CHAFRAM002313238607_2',\n",
       " 'SIMUSAM000001600900_2',\n",
       " 'CHACANM0000MC299727_1',\n",
       " 'CHACANM0000MC299727_2',\n",
       " 'UMCUSAU000000194824_1',\n",
       " 'UMCUSAU000000194824_2',\n",
       " 'CHAAUSM0000CMAF508E_2',\n",
       " 'SIMUSAM000001818026_1',\n",
       " 'CHACANM000000FMC409_1',\n",
       " 'CHACANM000000FMC409_2',\n",
       " 'CHACANM0000MC293022_1',\n",
       " 'CHACANM0000MC293022_2',\n",
       " 'CHACANM0000MC226735_1',\n",
       " 'CHACANM0000MC226735_2',\n",
       " 'CHAAUSM000002UPP46E_1',\n",
       " 'CHAAUSM0000TOLH338E_1',\n",
       " 'CHAAUSM0000TOLH338E_2',\n",
       " 'CHAAUSM0000JDSK806D_1',\n",
       " 'CHAFRAM004289101316_2',\n",
       " 'UMCUSAU000000194831_2',\n",
       " 'UMCUSAM000000198531_1',\n",
       " 'UMCUSAM000000198531_2',\n",
       " 'CHAFRAM007121333571_2',\n",
       " 'UMCUSAM000000198544_2',\n",
       " 'HERUSAF000042190680_1',\n",
       " 'HERUSAF000042190680_2',\n",
       " 'HERUSAM000019587707_1',\n",
       " 'HERUSAM000019587707_2',\n",
       " 'HERUSAM000042016383_1',\n",
       " 'HERUSAM000042016383_2',\n",
       " 'HERUSAM000042584003_1',\n",
       " 'HERUSAM000042584003_2',\n",
       " 'HERUSAM000042651231_1',\n",
       " 'HERUSAM000042651231_2',\n",
       " 'HERUSAM000023697677_1',\n",
       " 'HERUSAM000023697677_2',\n",
       " 'HERUSAM000042196682_1',\n",
       " 'HERUSAM000042196682_2',\n",
       " 'HERUSAM000024020737_1',\n",
       " 'HERUSAM000024020737_2',\n",
       " 'HERUSAM000018950672_1',\n",
       " 'HERUSAM000018950672_2',\n",
       " 'HERUSAM000014661058_1',\n",
       " 'HERUSAM000014661058_2',\n",
       " 'HERCHEF120103643583_1',\n",
       " 'HERCHEF120103643583_2',\n",
       " 'HERCANM000C02356049_2',\n",
       " 'HERUSAM000042800895_2',\n",
       " 'HERUSAM000040007386_1',\n",
       " 'HERUSAM000040007386_2',\n",
       " 'SAMN10598573_1',\n",
       " 'SAMN10598573_2',\n",
       " 'UMCUSAM000000087954_1',\n",
       " 'UMCUSAM000000087954_2',\n",
       " 'SAMN10598567_1',\n",
       " 'SAMN10598567_2',\n",
       " 'SAMN10598561_1',\n",
       " 'SAMN10598561_2',\n",
       " 'HERCANM000C02170890_1',\n",
       " 'HERCANM000C02170890_2',\n",
       " 'HERCANM000C01886795_1',\n",
       " 'HERCANM000C01886795_2',\n",
       " 'SAMN10598560_1',\n",
       " 'SAMN10598560_2',\n",
       " 'UMCUSAU000000194352_1',\n",
       " 'UMCUSAU000000194352_2',\n",
       " 'HERUSAM000019219455_1',\n",
       " 'HERUSAM000019219455_2',\n",
       " 'HERCANM000C00523214_1',\n",
       " 'HERCANM000C00523214_2',\n",
       " 'SAMN10598570_1',\n",
       " 'SAMN10598570_2',\n",
       " 'UMCUSAU000000194738_1',\n",
       " 'UMCUSAU000000194738_2',\n",
       " 'SAMN10598556_1',\n",
       " 'SAMN10598556_2',\n",
       " 'UMCUSAU000000194788_2',\n",
       " 'UMCUSAU000000198102_2',\n",
       " 'UMCUSAU000000194781_1',\n",
       " 'UMCUSAU000000194781_2',\n",
       " 'HERCANM000C02900324_1',\n",
       " 'HERCANM000C02900324_2',\n",
       " 'HERRUSM00000NSC2022_1',\n",
       " 'HERRUSM00000NSC2022_2',\n",
       " 'HERCANM000C01047851_1',\n",
       " 'HERCANM000C01047851_2',\n",
       " 'HERAUSM00000YAVG031_1',\n",
       " 'HERAUSM00000YAVG031_2',\n",
       " 'HERRUSM00000NSC2020_1',\n",
       " 'HERRUSM00000NSC2020_2',\n",
       " 'UMCUSAU000000194355_1',\n",
       " 'UMCUSAU000000194355_2',\n",
       " 'HERCANM000C01589795_1',\n",
       " 'HERCANM000C01589795_2',\n",
       " 'HERCANM000C02250230_1',\n",
       " 'HERCANM000C02250230_2',\n",
       " 'UMCUSAU000000194813_1',\n",
       " 'UMCUSAU000000194813_2',\n",
       " 'HERRUSM00000NSC2018_1',\n",
       " 'HERRUSM00000NSC2018_2',\n",
       " 'HERCANM000C01335977_1',\n",
       " 'HERCANM000C01335977_2',\n",
       " 'HERRUSM00000NSC2023_1',\n",
       " 'HERRUSM00000NSC2023_2',\n",
       " 'HERRUSM00000NSC2014_1',\n",
       " 'HERRUSM00000NSC2014_2',\n",
       " 'HERRUSM00000NSC2017_1',\n",
       " 'HERRUSM00000NSC2017_2',\n",
       " 'HERRUSM00000NSC2019_2',\n",
       " 'HERCANM000C02509999_1',\n",
       " 'HERCANM000C02509999_2',\n",
       " 'UMCUSAU000000194830_1',\n",
       " 'UMCUSAU000000194830_2',\n",
       " 'HERRUSM000NSC37G131_1',\n",
       " 'HERRUSM000NSC37G131_2',\n",
       " 'HERCANM000C02789138_1',\n",
       " 'HERNZLM000000353-10_2',\n",
       " 'HERCANM000C02906123_1',\n",
       " 'HERCANM000C02906123_2',\n",
       " 'HERRUSM00000NSC2021_1',\n",
       " 'HERRUSM00000NSC2021_2',\n",
       " 'HERRUSF000NSC34G001_1',\n",
       " 'HERRUSF000NSC34G001_2',\n",
       " 'HERCANM000C02020446_1',\n",
       " 'HERCANM000C02020446_2',\n",
       " 'HERCANM000C02698670_2',\n",
       " 'HERUSAM000018829210_1',\n",
       " 'HERUSAM000018829210_2',\n",
       " 'HERRUSF000NSC40G001_1',\n",
       " 'HERRUSF000NSC40G001_2',\n",
       " 'HERRUSM00000NSC2015_1',\n",
       " 'HERRUSM00000NSC2015_2',\n",
       " 'HERCANM000C02268244_1',\n",
       " 'HERCANM000C02268244_2',\n",
       " 'HERRUSF000NSC36G027_1',\n",
       " 'HERRUSF000NSC36G027_2',\n",
       " 'HERCANM000C02764160_1',\n",
       " 'HERCANM000C02764160_2',\n",
       " 'UMCUSAU000000194774_1',\n",
       " 'UMCUSAU000000194774_2',\n",
       " 'HERNZLM000000272-11_1',\n",
       " 'HERNZLM000000272-11_2',\n",
       " 'HERAUSM00000HRPL336_1',\n",
       " 'HERAUSM00000HRPL336_2',\n",
       " 'HERRUSF000NSC45G061_1',\n",
       " 'HERRUSF000NSC45G061_2',\n",
       " 'UMCUSAU000000194353_1',\n",
       " 'UMCUSAU000000194353_2',\n",
       " 'HERUSAM000018837770_2',\n",
       " 'HERCANM000C02764939_1',\n",
       " 'HERCANM000C02764939_2',\n",
       " 'HERAUSM0000005JL416_1',\n",
       " 'HERAUSM0000005JL416_2',\n",
       " 'UMCUSAU000000194783_1',\n",
       " 'UMCUSAU000000194783_2',\n",
       " 'HERUSAM000042982422_1',\n",
       " 'HERUSAM000042982422_2',\n",
       " 'HERAUSM00000KMPK215_1',\n",
       " 'HERAUSM00000KMPK215_2',\n",
       " 'UMCUSAU000000194760_1',\n",
       " 'UMCUSAU000000194760_2',\n",
       " 'HERNZLM000272110089_1',\n",
       " 'HERNZLM000272110089_2',\n",
       " 'HERAUSM00000YPHX122_1',\n",
       " 'HERAUSM00000YPHX122_2',\n",
       " 'UMCUSAM000000198525_1',\n",
       " 'UMCUSAM000000198525_2',\n",
       " 'HERAUSM00000IHSJ084_2',\n",
       " 'HERNZLM000216088557_1',\n",
       " 'HERNZLM000216088557_2',\n",
       " 'HERAUSM00000RMEL884_1',\n",
       " 'HERAUSM00000RMEL884_2',\n",
       " 'HERUSAM000023495300_1',\n",
       " 'HERUSAM000023495300_2',\n",
       " 'HERAUSM000000BMED36_2',\n",
       " 'HERRUSF000NSC39G186_1',\n",
       " 'HERRUSF000NSC39G186_2',\n",
       " 'HERUSAM000018705440_1',\n",
       " 'HERUSAM000018705440_2',\n",
       " 'HERAUSM00000WNAK326_1',\n",
       " 'HERCANM000C02699070_2',\n",
       " 'UMCUSAM000000198542_1',\n",
       " 'UMCUSAM000000198542_2',\n",
       " 'HERAUSM000000KMH840_1',\n",
       " 'HERAUSM000000KMH840_2',\n",
       " 'UMCUSAM000000198528_1',\n",
       " 'UMCUSAM000000198528_2',\n",
       " 'HERUSAM000015587538_1',\n",
       " 'HERUSAM000015587538_2',\n",
       " 'HERAUSUCOU00000C050_1',\n",
       " 'HERAUSUCOU00000C050_2',\n",
       " 'HERNZLM000216000219_1',\n",
       " 'HERNZLM000216000219_2',\n",
       " 'UMCUSAM000000198530_1',\n",
       " 'UMCUSAM000000198530_2',\n",
       " 'HERCANM000C02755740_1',\n",
       " 'HERCANM000C02755740_2',\n",
       " 'UMCUSAM000000204590_1',\n",
       " 'UMCUSAM000000204590_2',\n",
       " 'HERUSAM000022957495_1',\n",
       " 'HERUSAM000022957495_2',\n",
       " 'LIMFRAM008789003720_1',\n",
       " 'LIMFRAM008772014394_1',\n",
       " 'LIMFRAM008772014394_2',\n",
       " 'LIMUSAM0000000CIM51_1',\n",
       " 'LIMUSAM0000000CIM51_2',\n",
       " 'LIMFRAM001995010819_1',\n",
       " 'LIMFRAM001995010819_2',\n",
       " 'LIMUSAM00000000NIM3_1',\n",
       " 'LIMUSAM00000000NIM3_2',\n",
       " 'LIMUNKMRM3054_1',\n",
       " 'LIMUNKMRM3054_2',\n",
       " 'LIMCHEF120027228880_1',\n",
       " 'LIMCHEF120027228880_2',\n",
       " 'LIMUNKFRM3052_1',\n",
       " 'LIMUNKFRM3052_2',\n",
       " 'LIMUNKURM3056_1',\n",
       " 'LIMUNKURM3056_2',\n",
       " 'LIMCHEM120108327068_1',\n",
       " 'LIMCHEM120108327068_2',\n",
       " 'LIMFRAM001989009820_1',\n",
       " 'LIMFRAM001989009820_2',\n",
       " 'LIMFRAM008789003682_1',\n",
       " 'LIMFRAM008789003682_2',\n",
       " 'LIMFRAM001931859212_1',\n",
       " 'LIMFRAM003693000206_1',\n",
       " 'LIMFRAM003330021849_1',\n",
       " 'LIMFRAM003330021849_2',\n",
       " 'UMCUSAU000000194778_1',\n",
       " 'UMCUSAU000000194778_2',\n",
       " 'UMCUSAU000000194837_2',\n",
       " 'UMCUSAU000000194356_1',\n",
       " 'UMCUSAU000000194356_2',\n",
       " 'SAMN09379752_2',\n",
       " 'UMCUSAU000000194814_1',\n",
       " 'UMCUSAU000000194814_2',\n",
       " 'LIMFRAM001982001611_1',\n",
       " 'LIMFRAM001982001611_2',\n",
       " 'UMCUSAU000000194357_1',\n",
       " 'UMCUSAU000000194357_2',\n",
       " 'UMCUSAU000000194807_1',\n",
       " 'UMCUSAU000000194807_2',\n",
       " 'UMCUSAU000000194358_1',\n",
       " 'UMCUSAU000000194358_2',\n",
       " 'LIMCHEM120103402296_1',\n",
       " 'LIMCHEM120103402296_2',\n",
       " 'UMCUSAU000000194759_1',\n",
       " 'UMCUSAU000000194759_2',\n",
       " 'UMCUSAU000000194734_1',\n",
       " 'UMCUSAU000000194734_2',\n",
       " 'LIMFRAM008783005953_1',\n",
       " 'LIMFRAM008783005953_2',\n",
       " 'LIMFRAM001991000217_1',\n",
       " 'LIMFRAM008122605131_1',\n",
       " 'LIMFRAM008122605131_2',\n",
       " 'LIMFRAF008737441643_1',\n",
       " 'LIMFRAF008737441643_2',\n",
       " 'UMCUSAU000000194359_1',\n",
       " 'UMCUSAU000000194359_2',\n",
       " 'LIMFRAM001984008766_1',\n",
       " 'LIMFRAM001984008766_2',\n",
       " 'UMCUSAU000000194746_1',\n",
       " 'UMCUSAU000000194746_2',\n",
       " 'LIMFRAM008780001156_1',\n",
       " 'LIMFRAM008780001156_2',\n",
       " 'LIMFRAM003615069746_1',\n",
       " 'LIMFRAM001692111209_1',\n",
       " 'LIMFRAM001692111209_2',\n",
       " 'UMCUSAU000000194797_1',\n",
       " 'UMCUSAU000000194797_2',\n",
       " 'LIMCANM00000CFM1419_1',\n",
       " 'LIMCANM00000CFM1419_2',\n",
       " 'LIMFRAM008796005024_1',\n",
       " 'LIMFRAF001522179031_1',\n",
       " 'LIMFRAF001522179031_2',\n",
       " 'LIMFRAM008786001669_1',\n",
       " 'LIMFRAM008786001669_2',\n",
       " 'LIMFRAM002424475070_1',\n",
       " 'LIMFRAM002424475070_2',\n",
       " 'LIMFRAM003683001518_1',\n",
       " 'LIMFRAM003683001518_2',\n",
       " 'LIMFRAM001996019196_1',\n",
       " 'UMCUSAU000000194755_1',\n",
       " 'UMCUSAU000000194755_2',\n",
       " 'LIMFRAM003100182711_2',\n",
       " 'UMCUSAU000000194790_1',\n",
       " 'UMCUSAU000000194790_2',\n",
       " 'UMCUSAU000000194745_1',\n",
       " 'UMCUSAU000000194745_2',\n",
       " 'UMCUSAU000000194361_1',\n",
       " 'UMCUSAU000000194361_2',\n",
       " 'LIMFRAM001534010356_1',\n",
       " 'UMCUSAU000000198088_1',\n",
       " 'UMCUSAU000000198088_2',\n",
       " 'UMCUSAU000000194756_1',\n",
       " 'UMCUSAU000000194756_2',\n",
       " 'LIMFRAM001717626948_1',\n",
       " 'LIMFRAM001717626948_2',\n",
       " 'UMCUSAU000000194819_1',\n",
       " 'UMCUSAU000000194819_2',\n",
       " 'LIMFRAM008709800286_1',\n",
       " 'LIMFRAM008709800286_2',\n",
       " 'UMCUSAU000000194815_1',\n",
       " 'UMCUSAU000000194815_2',\n",
       " 'UMCUSAU000000194784_1',\n",
       " 'UMCUSAU000000194784_2',\n",
       " 'LIMFRAM003330051922_1',\n",
       " 'LIMFRAM003330051922_2',\n",
       " 'LIMFRAM008939305534_1',\n",
       " 'LIMFRAM008939305534_2',\n",
       " 'LIMFRAM002297004114_2',\n",
       " 'LIMFRAM001984004136_1',\n",
       " 'LIMFRAM001984004136_2',\n",
       " 'UMCUSAU000000194799_1',\n",
       " 'UMCUSAU000000194799_2',\n",
       " 'UMCUSAU000000194765_2',\n",
       " 'LIMFRAM001936038350_1',\n",
       " 'LIMFRAM008753180035_1',\n",
       " 'LIMFRAM008753180035_2',\n",
       " 'UMCUSAU000000194816_1',\n",
       " 'UMCUSAU000000194816_2',\n",
       " 'UMCUSAU000000194772_1',\n",
       " 'UMCUSAU000000194772_2',\n",
       " 'LIMFRAM008770007813_1',\n",
       " 'LIMFRAM008770007813_2',\n",
       " 'UMCUSAU000000194360_2',\n",
       " 'LIMFRAM002396032213_1',\n",
       " 'LIMFRAM002396032213_2',\n",
       " 'LIMUSAM00NPM1398573_1',\n",
       " 'LIMUSAM00NPM1398573_2',\n",
       " 'LIMFRAM004088028055_1',\n",
       " 'LIMFRAM004088028055_2',\n",
       " 'UMCUSAU000000194828_1',\n",
       " 'UMCUSAU000000194828_2',\n",
       " 'UMCUSAU000000194794_1',\n",
       " 'UMCUSAU000000194794_2',\n",
       " 'LIMFRAM008743230571_1',\n",
       " 'LIMFRAM008743230571_2',\n",
       " 'UMCUSAM000000198536_1',\n",
       " 'UMCUSAM000000198536_2',\n",
       " 'UMCUSAU000000194835_1',\n",
       " 'UMCUSAU000000194835_2',\n",
       " 'UMCUSAU000000194836_1',\n",
       " 'LIMFRAM002305332242_1',\n",
       " 'LIMFRAM002305332242_2',\n",
       " 'LIMFRAM008709450265_1',\n",
       " 'LIMFRAM003150074528_1',\n",
       " 'LIMFRAM003150074528_2',\n",
       " 'LIMFRAM001205099772_1',\n",
       " 'LIMFRAM001205099772_2',\n",
       " 'UMCUSAU000000194833_1',\n",
       " 'UMCUSAU000000194833_2',\n",
       " 'UMCUSAM000000198546_1',\n",
       " 'UMCUSAM000000198546_2',\n",
       " 'LIMUSAM000000CIM918_1',\n",
       " 'LIMUSAM000000CIM918_2',\n",
       " 'LIMUSAM000000CFM179_1',\n",
       " 'LIMUSAM000000CFM179_2',\n",
       " 'LIMFRAM008736660513_1',\n",
       " 'LIMFRAM008736660513_2',\n",
       " 'LIMFRAM002424465830_2',\n",
       " 'LIMFRAM008754040251_1',\n",
       " 'LIMFRAM008754040251_2',\n",
       " 'LIMUSAM00NPM1458543_1',\n",
       " 'LIMUSAM00NPM1458543_2',\n",
       " 'LIMUSAM000NPM802417_1',\n",
       " 'LIMUSAM000NPM802417_2',\n",
       " 'LIMUSAM00NPM1718188_1',\n",
       " 'LIMUSAM00NPM1718188_2',\n",
       " 'UMCUSAM000000204599_1',\n",
       " 'UMCUSAM000000204599_2',\n",
       " 'SIMCHEM120036382306_1',\n",
       " 'SIMCHEM120036382306_2',\n",
       " 'UMCUSAF000000199534_1',\n",
       " 'UMCUSAF000000199534_2',\n",
       " 'SIMCHEM120092158709_2',\n",
       " 'SIMAUTF000754675968_1',\n",
       " 'SIMCHEF120075352292_1',\n",
       " 'SIMCHEF120075352292_2',\n",
       " 'SIMCHEF120052974301_1',\n",
       " 'SIMCHEF120052974301_2',\n",
       " 'SIMUSAM000002370545_1',\n",
       " 'SIMUSAM000002370545_2',\n",
       " 'SIMUSAM000002144976_1',\n",
       " 'SIMCHEF120110321696_2',\n",
       " 'SIMCHEFITPA1507_1',\n",
       " 'SIMCHEFITPA1507_2',\n",
       " 'SIMUSAM000001140615_1',\n",
       " 'SIMUSAM000001140615_2',\n",
       " 'UMCUSAU000000198080_1',\n",
       " 'UMCUSAU000000198080_2',\n",
       " 'SIMCANM000020140027_1',\n",
       " 'UMCUSAU000000194366_2',\n",
       " 'SIMNZLM000049AU0158_1',\n",
       " 'SIMAUTM000963638719_2',\n",
       " 'UMCUSAU000000198097_2',\n",
       " 'SIMCANM000000293252_1',\n",
       " 'SIMCANM000000361254_1',\n",
       " 'SIMCHEM713775055619_1',\n",
       " 'SIMCHEM713775055619_2',\n",
       " 'SIMUSAM000002257912_1',\n",
       " 'SIMCANM000000216954_2',\n",
       " 'SIMUSAM000009617179_1',\n",
       " 'UMCUSAU000000194792_1',\n",
       " 'UMCUSAU000000194792_2',\n",
       " 'UMCUSAU000000194791_2',\n",
       " 'UMCUSAM000000198540_1',\n",
       " 'UMCUSAM000000198540_2',\n",
       " 'SIMDEUM000803608138_1',\n",
       " 'SIMDEUM000803608138_2',\n",
       " 'SIMDEUM000932627221_2',\n",
       " 'SIMDEUM000933223030_1',\n",
       " 'SIMDEUM000911432723_1',\n",
       " 'SIMDEUM000918197733_1',\n",
       " 'SIMDEUM000950584736_1',\n",
       " 'SIMDEUM000950584736_2',\n",
       " 'SIMDEUM000939109211_2',\n",
       " 'SIMDEUM000937732019_1']"
      ]
     },
     "execution_count": 22,
     "metadata": {},
     "output_type": "execute_result"
    }
   ],
   "source": [
    "ls_all_0"
   ]
  },
  {
   "cell_type": "code",
   "execution_count": null,
   "id": "85b5c73f-c5b8-4d00-852b-3642ecd61fe3",
   "metadata": {},
   "outputs": [],
   "source": []
  },
  {
   "cell_type": "code",
   "execution_count": 23,
   "id": "7815630e-036b-4f90-a236-21f000dd4d5c",
   "metadata": {
    "tags": []
   },
   "outputs": [],
   "source": [
    "breed = 'Charolais'"
   ]
  },
  {
   "cell_type": "code",
   "execution_count": 33,
   "id": "b5c13350-c54a-4f3c-92d0-c163a6515ce1",
   "metadata": {
    "tags": []
   },
   "outputs": [],
   "source": [
    "ls_breeds = ['Charolais', 'Simmental', 'Limousin', 'Hereford', 'Angus']"
   ]
  },
  {
   "cell_type": "code",
   "execution_count": 35,
   "id": "f61b9610-a4ba-4eb6-b51a-58318e2d1a70",
   "metadata": {
    "tags": []
   },
   "outputs": [
    {
     "data": {
      "image/png": "[encoded data removed]",
      "text/plain": [
       "<Figure size 1000x500 with 4 Axes>"
      ]
     },
     "metadata": {
      "image/png": {
       "height": 490,
       "width": 989
      }
     },
     "output_type": "display_data"
    },
    {
     "data": {
      "image/png": "[encoded data removed]",
      "text/plain": [
       "<Figure size 1000x500 with 4 Axes>"
      ]
     },
     "metadata": {
      "image/png": {
       "height": 490,
       "width": 989
      }
     },
     "output_type": "display_data"
    },
    {
     "data": {
      "image/png": "[encoded data removed]",
      "text/plain": [
       "<Figure size 1000x500 with 4 Axes>"
      ]
     },
     "metadata": {
      "image/png": {
       "height": 490,
       "width": 989
      }
     },
     "output_type": "display_data"
    },
    {
     "data": {
      "image/png": "[encoded data removed]",
      "text/plain": [
       "<Figure size 1000x500 with 4 Axes>"
      ]
     },
     "metadata": {
      "image/png": {
       "height": 490,
       "width": 989
      }
     },
     "output_type": "display_data"
    },
    {
     "data": {
      "image/png": "[encoded data removed]",
      "text/plain": [
       "<Figure size 1000x500 with 4 Axes>"
      ]
     },
     "metadata": {
      "image/png": {
       "height": 490,
       "width": 989
      }
     },
     "output_type": "display_data"
    }
   ],
   "source": [
    "for breed in ls_breeds:\n",
    "    ls_hap_sort = []\n",
    "    hap2c = {}\n",
    "    for hap in group2haps[breed]:\n",
    "        if hap in ls_all_1:\n",
    "            ls_hap_sort.append(hap)\n",
    "            hap2c[hap] = '#3cb44b'\n",
    "\n",
    "    for hap in group2haps[breed]:\n",
    "        if hap in ls_all_0:\n",
    "            ls_hap_sort.append(hap)\n",
    "            hap2c[hap] = '#4363d8'\n",
    "\n",
    "    for hap in group2haps[breed]:\n",
    "        if (hap not in ls_all_0) and (hap not in ls_all_1):\n",
    "            ls_hap_sort.append(hap)\n",
    "            hap2c[hap] = 'grey'\n",
    "\n",
    "\n",
    "\n",
    "    myColors = ((179/255, 179/255, 179/255, 1.0), (255/255, 247/255, 236/255, 1.0),  (127/255, 0, 0, 1.0))\n",
    "    cmap = LinearSegmentedColormap.from_list('Custom', myColors, len(myColors))\n",
    "    \n",
    "    g = sns.clustermap(\n",
    "        df_hap.loc[:, ls_hap_sort].T, \n",
    "        row_cluster=False, \n",
    "        col_cluster=False, \n",
    "        yticklabels=False, \n",
    "        xticklabels=False, #添加选项，是否显示xtick\n",
    "        cmap=cmap, \n",
    "        row_colors=pd.Series(hap2c),\n",
    "        vmin=-1, \n",
    "        vmax=1, \n",
    "        cbar_pos=None,\n",
    "        # cbar_kws={\"ticks\":[-0.7, 0, 0.7]}, \n",
    "        figsize=(10, 5)\n",
    "    )\n",
    "\n",
    "    plt.rcParams['pdf.use14corefonts'] = True\n",
    "    g.savefig(f'LCORL_haplotype_all_0_1_{breed}.png', bbox_inches = 'tight', dpi=300)"
   ]
  },
  {
   "cell_type": "code",
   "execution_count": null,
   "id": "153fb8a1-e353-401c-8506-c5e46f4e0adc",
   "metadata": {},
   "outputs": [],
   "source": []
  }
 ],
 "metadata": {
  "kernelspec": {
   "display_name": "Python 3",
   "language": "python",
   "name": "python3"
  },
  "language_info": {
   "codemirror_mode": {
    "name": "ipython",
    "version": 3
   },
   "file_extension": ".py",
   "mimetype": "text/x-python",
   "name": "python",
   "nbconvert_exporter": "python",
   "pygments_lexer": "ipython3",
   "version": "3.9.1"
  }
 },
 "nbformat": 4,
 "nbformat_minor": 5
}
